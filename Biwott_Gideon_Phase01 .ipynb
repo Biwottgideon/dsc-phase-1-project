{
 "cells": [
  {
   "cell_type": "markdown",
   "metadata": {},
   "source": [
    "## Final Project Submission\n",
    "\n",
    "Please fill out:\n",
    "* Student name: Biwott Gideon\n",
    "* Student pace: Part time\n",
    "* Scheduled project review date/time: \n",
    "* Instructor name: Samwel Jane\n",
    "* Blog post URL:\n"
   ]
  },
  {
   "cell_type": "markdown",
   "metadata": {},
   "source": [
    "    SELECTED DATASET\n",
    "The selected dataset is named \"Title Basics\" which is a movie productions dataset for analysing movies performance. A related dataset is named \"Movie Ratings\" This file shades more light on Genres performance, in terms of overall ratings and the votes.\n",
    "\n",
    "-The two datasets are available to the public\n",
    "\n",
    "https://www.boxofficemojo.com/genre/?ref_=bo_lnav_hm_shrt\n",
    "https://www.the-numbers.com/market/genres\n",
    "\n",
    "-The main datset is the \"Title Basics\", it will be enriched by the \"Movie Ratings\" using the \"tconst\" column which is common in both.\n",
    "\n",
    "The \"Title Basics\" dataset has over 146144 rows of data and 5 columns.\n",
    "\n",
    "    PROBLEM STATEMENT\n",
    "Movie business success is dependant on the consumer behaviour, who mostly watch from interest and this will mean subscription. To attract high subscription rate the Microsoft team will have to understand customer behaviour and what they will likely consume over the other one based on movie production history.\n",
    "\n",
    "    OBJECTIVES\n",
    "* To explore probable genres correlations based on the overall ratings and the number of votes data.\n",
    "* To establish any limitation to the interpretation of the results and their impact on the data\n",
    "* To establish dominant trends based on categories such as Genres, overarating and number of votes etc. that may be used to leverage profit.\n",
    "* To establish the Correlation and Pattern Discovery for our two Data-sets.\n",
    "* To provide Comprehensive, Communication reporting and actionable Recommendations.\n"
   ]
  },
  {
   "cell_type": "markdown",
   "metadata": {},
   "source": [
    "### IMPORTING RELEVANT LIBRARIES FROM PYTHON"
   ]
  },
  {
   "cell_type": "code",
   "execution_count": 60,
   "metadata": {},
   "outputs": [],
   "source": [
    "import pandas as pd\n",
    "import matplotlib.pyplot as plt\n",
    "%matplotlib inline\n",
    "import seaborn as sns\n",
    "import numpy as np\n",
    "import plotly.express as px"
   ]
  },
  {
   "cell_type": "markdown",
   "metadata": {},
   "source": [
    "### LOADING RAW DATA AND UNDERSTANDING."
   ]
  },
  {
   "cell_type": "code",
   "execution_count": 61,
   "metadata": {},
   "outputs": [],
   "source": [
    "Movies_Title = pd.read_csv(\"title.basics.csv\",index_col=0)\n",
    "Movies_db = pd.read_csv(\"tmdb.movies.csv\",index_col=0)\n",
    "Movies_Ratings = pd.read_csv(\"title.ratings.csv\",index_col=0)\n",
    "Movies_Budgets =pd.read_csv(\"tn.movie_budgets.csv\",index_col=0)\n"
   ]
  },
  {
   "cell_type": "code",
   "execution_count": 62,
   "metadata": {},
   "outputs": [
    {
     "data": {
      "text/html": [
       "<div>\n",
       "<style scoped>\n",
       "    .dataframe tbody tr th:only-of-type {\n",
       "        vertical-align: middle;\n",
       "    }\n",
       "\n",
       "    .dataframe tbody tr th {\n",
       "        vertical-align: top;\n",
       "    }\n",
       "\n",
       "    .dataframe thead th {\n",
       "        text-align: right;\n",
       "    }\n",
       "</style>\n",
       "<table border=\"1\" class=\"dataframe\">\n",
       "  <thead>\n",
       "    <tr style=\"text-align: right;\">\n",
       "      <th></th>\n",
       "      <th>primary_title</th>\n",
       "      <th>original_title</th>\n",
       "      <th>start_year</th>\n",
       "      <th>runtime_minutes</th>\n",
       "      <th>genres</th>\n",
       "    </tr>\n",
       "    <tr>\n",
       "      <th>tconst</th>\n",
       "      <th></th>\n",
       "      <th></th>\n",
       "      <th></th>\n",
       "      <th></th>\n",
       "      <th></th>\n",
       "    </tr>\n",
       "  </thead>\n",
       "  <tbody>\n",
       "    <tr>\n",
       "      <th>tt0063540</th>\n",
       "      <td>Sunghursh</td>\n",
       "      <td>Sunghursh</td>\n",
       "      <td>2013</td>\n",
       "      <td>175.0</td>\n",
       "      <td>Action,Crime,Drama</td>\n",
       "    </tr>\n",
       "    <tr>\n",
       "      <th>tt0066787</th>\n",
       "      <td>One Day Before the Rainy Season</td>\n",
       "      <td>Ashad Ka Ek Din</td>\n",
       "      <td>2019</td>\n",
       "      <td>114.0</td>\n",
       "      <td>Biography,Drama</td>\n",
       "    </tr>\n",
       "    <tr>\n",
       "      <th>tt0069049</th>\n",
       "      <td>The Other Side of the Wind</td>\n",
       "      <td>The Other Side of the Wind</td>\n",
       "      <td>2018</td>\n",
       "      <td>122.0</td>\n",
       "      <td>Drama</td>\n",
       "    </tr>\n",
       "  </tbody>\n",
       "</table>\n",
       "</div>"
      ],
      "text/plain": [
       "                             primary_title              original_title  \\\n",
       "tconst                                                                   \n",
       "tt0063540                        Sunghursh                   Sunghursh   \n",
       "tt0066787  One Day Before the Rainy Season             Ashad Ka Ek Din   \n",
       "tt0069049       The Other Side of the Wind  The Other Side of the Wind   \n",
       "\n",
       "           start_year  runtime_minutes              genres  \n",
       "tconst                                                      \n",
       "tt0063540        2013            175.0  Action,Crime,Drama  \n",
       "tt0066787        2019            114.0     Biography,Drama  \n",
       "tt0069049        2018            122.0               Drama  "
      ]
     },
     "execution_count": 62,
     "metadata": {},
     "output_type": "execute_result"
    }
   ],
   "source": [
    "Movies_Title.head(3)"
   ]
  },
  {
   "cell_type": "code",
   "execution_count": 63,
   "metadata": {},
   "outputs": [
    {
     "data": {
      "text/html": [
       "<div>\n",
       "<style scoped>\n",
       "    .dataframe tbody tr th:only-of-type {\n",
       "        vertical-align: middle;\n",
       "    }\n",
       "\n",
       "    .dataframe tbody tr th {\n",
       "        vertical-align: top;\n",
       "    }\n",
       "\n",
       "    .dataframe thead th {\n",
       "        text-align: right;\n",
       "    }\n",
       "</style>\n",
       "<table border=\"1\" class=\"dataframe\">\n",
       "  <thead>\n",
       "    <tr style=\"text-align: right;\">\n",
       "      <th></th>\n",
       "      <th>averagerating</th>\n",
       "      <th>numvotes</th>\n",
       "    </tr>\n",
       "    <tr>\n",
       "      <th>tconst</th>\n",
       "      <th></th>\n",
       "      <th></th>\n",
       "    </tr>\n",
       "  </thead>\n",
       "  <tbody>\n",
       "    <tr>\n",
       "      <th>tt10356526</th>\n",
       "      <td>8.3</td>\n",
       "      <td>31</td>\n",
       "    </tr>\n",
       "    <tr>\n",
       "      <th>tt10384606</th>\n",
       "      <td>8.9</td>\n",
       "      <td>559</td>\n",
       "    </tr>\n",
       "    <tr>\n",
       "      <th>tt1042974</th>\n",
       "      <td>6.4</td>\n",
       "      <td>20</td>\n",
       "    </tr>\n",
       "  </tbody>\n",
       "</table>\n",
       "</div>"
      ],
      "text/plain": [
       "            averagerating  numvotes\n",
       "tconst                             \n",
       "tt10356526            8.3        31\n",
       "tt10384606            8.9       559\n",
       "tt1042974             6.4        20"
      ]
     },
     "execution_count": 63,
     "metadata": {},
     "output_type": "execute_result"
    }
   ],
   "source": [
    "Movies_Ratings.head(3)"
   ]
  },
  {
   "cell_type": "markdown",
   "metadata": {},
   "source": [
    "### Checking the shape of the dataset"
   ]
  },
  {
   "cell_type": "code",
   "execution_count": 64,
   "metadata": {},
   "outputs": [
    {
     "data": {
      "text/plain": [
       "(73856, 2)"
      ]
     },
     "execution_count": 64,
     "metadata": {},
     "output_type": "execute_result"
    }
   ],
   "source": [
    "Movies_Ratings.shape"
   ]
  },
  {
   "cell_type": "code",
   "execution_count": 65,
   "metadata": {},
   "outputs": [
    {
     "data": {
      "text/plain": [
       "(146144, 5)"
      ]
     },
     "execution_count": 65,
     "metadata": {},
     "output_type": "execute_result"
    }
   ],
   "source": [
    "Movies_Title.shape"
   ]
  },
  {
   "cell_type": "code",
   "execution_count": 66,
   "metadata": {},
   "outputs": [
    {
     "name": "stdout",
     "output_type": "stream",
     "text": [
      "<class 'pandas.core.frame.DataFrame'>\n",
      "Index: 146144 entries, tt0063540 to tt9916754\n",
      "Data columns (total 5 columns):\n",
      " #   Column           Non-Null Count   Dtype  \n",
      "---  ------           --------------   -----  \n",
      " 0   primary_title    146144 non-null  object \n",
      " 1   original_title   146123 non-null  object \n",
      " 2   start_year       146144 non-null  int64  \n",
      " 3   runtime_minutes  114405 non-null  float64\n",
      " 4   genres           140736 non-null  object \n",
      "dtypes: float64(1), int64(1), object(3)\n",
      "memory usage: 6.7+ MB\n"
     ]
    }
   ],
   "source": [
    "Movies_Title.info()"
   ]
  },
  {
   "cell_type": "code",
   "execution_count": 67,
   "metadata": {},
   "outputs": [
    {
     "name": "stdout",
     "output_type": "stream",
     "text": [
      "<class 'pandas.core.frame.DataFrame'>\n",
      "Index: 73856 entries, tt10356526 to tt9894098\n",
      "Data columns (total 2 columns):\n",
      " #   Column         Non-Null Count  Dtype  \n",
      "---  ------         --------------  -----  \n",
      " 0   averagerating  73856 non-null  float64\n",
      " 1   numvotes       73856 non-null  int64  \n",
      "dtypes: float64(1), int64(1)\n",
      "memory usage: 1.7+ MB\n"
     ]
    }
   ],
   "source": [
    "Movies_Ratings.info()"
   ]
  },
  {
   "cell_type": "code",
   "execution_count": 68,
   "metadata": {},
   "outputs": [],
   "source": [
    "#Movies_Gross = pd.read_csv(\"bom.movie_gross.csv\",index_col=0)"
   ]
  },
  {
   "cell_type": "code",
   "execution_count": 69,
   "metadata": {},
   "outputs": [],
   "source": [
    "#Movies_Gross.head()"
   ]
  },
  {
   "cell_type": "markdown",
   "metadata": {},
   "source": [
    "### SUB-SETTING THE DATABASE AND JOINING THE DATA SETS"
   ]
  },
  {
   "cell_type": "code",
   "execution_count": 70,
   "metadata": {},
   "outputs": [
    {
     "data": {
      "text/html": [
       "<div>\n",
       "<style scoped>\n",
       "    .dataframe tbody tr th:only-of-type {\n",
       "        vertical-align: middle;\n",
       "    }\n",
       "\n",
       "    .dataframe tbody tr th {\n",
       "        vertical-align: top;\n",
       "    }\n",
       "\n",
       "    .dataframe thead th {\n",
       "        text-align: right;\n",
       "    }\n",
       "</style>\n",
       "<table border=\"1\" class=\"dataframe\">\n",
       "  <thead>\n",
       "    <tr style=\"text-align: right;\">\n",
       "      <th></th>\n",
       "      <th>primary_title</th>\n",
       "      <th>original_title</th>\n",
       "      <th>start_year</th>\n",
       "      <th>runtime_minutes</th>\n",
       "      <th>genres</th>\n",
       "      <th>averagerating</th>\n",
       "      <th>numvotes</th>\n",
       "    </tr>\n",
       "    <tr>\n",
       "      <th>tconst</th>\n",
       "      <th></th>\n",
       "      <th></th>\n",
       "      <th></th>\n",
       "      <th></th>\n",
       "      <th></th>\n",
       "      <th></th>\n",
       "      <th></th>\n",
       "    </tr>\n",
       "  </thead>\n",
       "  <tbody>\n",
       "    <tr>\n",
       "      <th>tt0063540</th>\n",
       "      <td>Sunghursh</td>\n",
       "      <td>Sunghursh</td>\n",
       "      <td>2013</td>\n",
       "      <td>175.0</td>\n",
       "      <td>Action,Crime,Drama</td>\n",
       "      <td>7.0</td>\n",
       "      <td>77.0</td>\n",
       "    </tr>\n",
       "    <tr>\n",
       "      <th>tt0066787</th>\n",
       "      <td>One Day Before the Rainy Season</td>\n",
       "      <td>Ashad Ka Ek Din</td>\n",
       "      <td>2019</td>\n",
       "      <td>114.0</td>\n",
       "      <td>Biography,Drama</td>\n",
       "      <td>7.2</td>\n",
       "      <td>43.0</td>\n",
       "    </tr>\n",
       "    <tr>\n",
       "      <th>tt0069049</th>\n",
       "      <td>The Other Side of the Wind</td>\n",
       "      <td>The Other Side of the Wind</td>\n",
       "      <td>2018</td>\n",
       "      <td>122.0</td>\n",
       "      <td>Drama</td>\n",
       "      <td>6.9</td>\n",
       "      <td>4517.0</td>\n",
       "    </tr>\n",
       "    <tr>\n",
       "      <th>tt0069204</th>\n",
       "      <td>Sabse Bada Sukh</td>\n",
       "      <td>Sabse Bada Sukh</td>\n",
       "      <td>2018</td>\n",
       "      <td>NaN</td>\n",
       "      <td>Comedy,Drama</td>\n",
       "      <td>6.1</td>\n",
       "      <td>13.0</td>\n",
       "    </tr>\n",
       "    <tr>\n",
       "      <th>tt0100275</th>\n",
       "      <td>The Wandering Soap Opera</td>\n",
       "      <td>La Telenovela Errante</td>\n",
       "      <td>2017</td>\n",
       "      <td>80.0</td>\n",
       "      <td>Comedy,Drama,Fantasy</td>\n",
       "      <td>6.5</td>\n",
       "      <td>119.0</td>\n",
       "    </tr>\n",
       "  </tbody>\n",
       "</table>\n",
       "</div>"
      ],
      "text/plain": [
       "                             primary_title              original_title  \\\n",
       "tconst                                                                   \n",
       "tt0063540                        Sunghursh                   Sunghursh   \n",
       "tt0066787  One Day Before the Rainy Season             Ashad Ka Ek Din   \n",
       "tt0069049       The Other Side of the Wind  The Other Side of the Wind   \n",
       "tt0069204                  Sabse Bada Sukh             Sabse Bada Sukh   \n",
       "tt0100275         The Wandering Soap Opera       La Telenovela Errante   \n",
       "\n",
       "           start_year  runtime_minutes                genres  averagerating  \\\n",
       "tconst                                                                        \n",
       "tt0063540        2013            175.0    Action,Crime,Drama            7.0   \n",
       "tt0066787        2019            114.0       Biography,Drama            7.2   \n",
       "tt0069049        2018            122.0                 Drama            6.9   \n",
       "tt0069204        2018              NaN          Comedy,Drama            6.1   \n",
       "tt0100275        2017             80.0  Comedy,Drama,Fantasy            6.5   \n",
       "\n",
       "           numvotes  \n",
       "tconst               \n",
       "tt0063540      77.0  \n",
       "tt0066787      43.0  \n",
       "tt0069049    4517.0  \n",
       "tt0069204      13.0  \n",
       "tt0100275     119.0  "
      ]
     },
     "execution_count": 70,
     "metadata": {},
     "output_type": "execute_result"
    }
   ],
   "source": [
    "# using merge function by setting how='inner' \n",
    "Title_ratings = pd.merge(Movies_Title, Movies_Ratings,  \n",
    "                   on='tconst',  \n",
    "                   how='outer')  \n",
    "Title_ratings.head()\n"
   ]
  },
  {
   "cell_type": "markdown",
   "metadata": {},
   "source": [
    "### UNDERSTANDING THE NEW DATA SET"
   ]
  },
  {
   "cell_type": "code",
   "execution_count": 74,
   "metadata": {},
   "outputs": [
    {
     "name": "stdout",
     "output_type": "stream",
     "text": [
      "<class 'pandas.core.frame.DataFrame'>\n",
      "Index: 146144 entries, tt0063540 to tt9916754\n",
      "Data columns (total 7 columns):\n",
      " #   Column           Non-Null Count   Dtype  \n",
      "---  ------           --------------   -----  \n",
      " 0   primary_title    146144 non-null  object \n",
      " 1   original_title   146123 non-null  object \n",
      " 2   start_year       146144 non-null  int64  \n",
      " 3   runtime_minutes  146144 non-null  float64\n",
      " 4   genres           140736 non-null  object \n",
      " 5   averagerating    73856 non-null   float64\n",
      " 6   numvotes         73856 non-null   float64\n",
      "dtypes: float64(3), int64(1), object(3)\n",
      "memory usage: 8.9+ MB\n"
     ]
    }
   ],
   "source": [
    "Title_ratings.info()"
   ]
  },
  {
   "cell_type": "code",
   "execution_count": 75,
   "metadata": {},
   "outputs": [
    {
     "data": {
      "text/html": [
       "<div>\n",
       "<style scoped>\n",
       "    .dataframe tbody tr th:only-of-type {\n",
       "        vertical-align: middle;\n",
       "    }\n",
       "\n",
       "    .dataframe tbody tr th {\n",
       "        vertical-align: top;\n",
       "    }\n",
       "\n",
       "    .dataframe thead th {\n",
       "        text-align: right;\n",
       "    }\n",
       "</style>\n",
       "<table border=\"1\" class=\"dataframe\">\n",
       "  <thead>\n",
       "    <tr style=\"text-align: right;\">\n",
       "      <th></th>\n",
       "      <th>start_year</th>\n",
       "      <th>runtime_minutes</th>\n",
       "      <th>averagerating</th>\n",
       "      <th>numvotes</th>\n",
       "    </tr>\n",
       "  </thead>\n",
       "  <tbody>\n",
       "    <tr>\n",
       "      <th>count</th>\n",
       "      <td>146144.000000</td>\n",
       "      <td>146144.000000</td>\n",
       "      <td>73856.000000</td>\n",
       "      <td>7.385600e+04</td>\n",
       "    </tr>\n",
       "    <tr>\n",
       "      <th>mean</th>\n",
       "      <td>2014.621798</td>\n",
       "      <td>86.146581</td>\n",
       "      <td>6.332729</td>\n",
       "      <td>3.523662e+03</td>\n",
       "    </tr>\n",
       "    <tr>\n",
       "      <th>std</th>\n",
       "      <td>2.733583</td>\n",
       "      <td>147.191289</td>\n",
       "      <td>1.474978</td>\n",
       "      <td>3.029402e+04</td>\n",
       "    </tr>\n",
       "    <tr>\n",
       "      <th>min</th>\n",
       "      <td>2010.000000</td>\n",
       "      <td>1.000000</td>\n",
       "      <td>1.000000</td>\n",
       "      <td>5.000000e+00</td>\n",
       "    </tr>\n",
       "    <tr>\n",
       "      <th>25%</th>\n",
       "      <td>2012.000000</td>\n",
       "      <td>75.000000</td>\n",
       "      <td>5.500000</td>\n",
       "      <td>1.400000e+01</td>\n",
       "    </tr>\n",
       "    <tr>\n",
       "      <th>50%</th>\n",
       "      <td>2015.000000</td>\n",
       "      <td>86.000000</td>\n",
       "      <td>6.500000</td>\n",
       "      <td>4.900000e+01</td>\n",
       "    </tr>\n",
       "    <tr>\n",
       "      <th>75%</th>\n",
       "      <td>2017.000000</td>\n",
       "      <td>95.000000</td>\n",
       "      <td>7.400000</td>\n",
       "      <td>2.820000e+02</td>\n",
       "    </tr>\n",
       "    <tr>\n",
       "      <th>max</th>\n",
       "      <td>2115.000000</td>\n",
       "      <td>51420.000000</td>\n",
       "      <td>10.000000</td>\n",
       "      <td>1.841066e+06</td>\n",
       "    </tr>\n",
       "  </tbody>\n",
       "</table>\n",
       "</div>"
      ],
      "text/plain": [
       "          start_year  runtime_minutes  averagerating      numvotes\n",
       "count  146144.000000    146144.000000   73856.000000  7.385600e+04\n",
       "mean     2014.621798        86.146581       6.332729  3.523662e+03\n",
       "std         2.733583       147.191289       1.474978  3.029402e+04\n",
       "min      2010.000000         1.000000       1.000000  5.000000e+00\n",
       "25%      2012.000000        75.000000       5.500000  1.400000e+01\n",
       "50%      2015.000000        86.000000       6.500000  4.900000e+01\n",
       "75%      2017.000000        95.000000       7.400000  2.820000e+02\n",
       "max      2115.000000     51420.000000      10.000000  1.841066e+06"
      ]
     },
     "execution_count": 75,
     "metadata": {},
     "output_type": "execute_result"
    }
   ],
   "source": [
    "Title_ratings.describe()"
   ]
  },
  {
   "cell_type": "markdown",
   "metadata": {},
   "source": [
    "### CHECKING ON THE NUMBERS BASED ON PRODUCTIONS"
   ]
  },
  {
   "cell_type": "code",
   "execution_count": 76,
   "metadata": {},
   "outputs": [
    {
     "data": {
      "text/plain": [
       "Documentary                   32185\n",
       "Drama                         21486\n",
       "Comedy                         9177\n",
       "Horror                         4372\n",
       "Comedy,Drama                   3519\n",
       "                              ...  \n",
       "Biography,Family,Mystery          1\n",
       "Animation,Music,Mystery           1\n",
       "Action,Documentary,Mystery        1\n",
       "Family,Music,Musical              1\n",
       "Comedy,Sci-Fi,Sport               1\n",
       "Name: genres, Length: 1085, dtype: int64"
      ]
     },
     "execution_count": 76,
     "metadata": {},
     "output_type": "execute_result"
    }
   ],
   "source": [
    "Production_per_Genres=Title_ratings['genres'].value_counts()\n",
    "Production_per_Genres"
   ]
  },
  {
   "cell_type": "code",
   "execution_count": 77,
   "metadata": {},
   "outputs": [
    {
     "data": {
      "text/plain": [
       "Documentary              32185\n",
       "Drama                    21486\n",
       "Comedy                    9177\n",
       "Horror                    4372\n",
       "Comedy,Drama              3519\n",
       "Thriller                  3046\n",
       "Action                    2219\n",
       "Biography,Documentary     2115\n",
       "Drama,Romance             2079\n",
       "Comedy,Drama,Romance      1558\n",
       "Name: genres, dtype: int64"
      ]
     },
     "execution_count": 77,
     "metadata": {},
     "output_type": "execute_result"
    }
   ],
   "source": [
    "#Sorting the data in a descending order based on the genres produced - the first 10\n",
    "Top10_Production_Genres = Production_per_Genres.sort_values(ascending=False).head(10)\n",
    "Top10_Production_Genres"
   ]
  },
  {
   "cell_type": "code",
   "execution_count": 78,
   "metadata": {},
   "outputs": [
    {
     "data": {
      "text/plain": [
       "Action,Family,Thriller            1\n",
       "Fantasy,History                   1\n",
       "Action,Crime,Music                1\n",
       "Animation,Crime,Thriller          1\n",
       "Biography,Fantasy,History         1\n",
       "Family,Sci-Fi,Thriller            1\n",
       "Musical,Mystery,Thriller          1\n",
       "Documentary,Fantasy,Sci-Fi        1\n",
       "Animation,Documentary,Thriller    1\n",
       "Comedy,Sci-Fi,Sport               1\n",
       "Name: genres, dtype: int64"
      ]
     },
     "execution_count": 78,
     "metadata": {},
     "output_type": "execute_result"
    }
   ],
   "source": [
    "#Sorting the data in a descending order based on the genres produced - the last 10\n",
    "Last10_Production_Genres = Production_per_Genres.sort_values(ascending=False).tail(10)\n",
    "Last10_Production_Genres"
   ]
  },
  {
   "cell_type": "markdown",
   "metadata": {},
   "source": [
    "## FEATURE ENGINEERING"
   ]
  },
  {
   "cell_type": "code",
   "execution_count": 79,
   "metadata": {},
   "outputs": [
    {
     "data": {
      "text/html": [
       "<div>\n",
       "<style scoped>\n",
       "    .dataframe tbody tr th:only-of-type {\n",
       "        vertical-align: middle;\n",
       "    }\n",
       "\n",
       "    .dataframe tbody tr th {\n",
       "        vertical-align: top;\n",
       "    }\n",
       "\n",
       "    .dataframe thead th {\n",
       "        text-align: right;\n",
       "    }\n",
       "</style>\n",
       "<table border=\"1\" class=\"dataframe\">\n",
       "  <thead>\n",
       "    <tr style=\"text-align: right;\">\n",
       "      <th></th>\n",
       "      <th></th>\n",
       "      <th>primary_title</th>\n",
       "      <th>original_title</th>\n",
       "      <th>start_year</th>\n",
       "      <th>runtime_minutes</th>\n",
       "      <th>numvotes</th>\n",
       "    </tr>\n",
       "    <tr>\n",
       "      <th>genres</th>\n",
       "      <th>averagerating</th>\n",
       "      <th></th>\n",
       "      <th></th>\n",
       "      <th></th>\n",
       "      <th></th>\n",
       "      <th></th>\n",
       "    </tr>\n",
       "  </thead>\n",
       "  <tbody>\n",
       "    <tr>\n",
       "      <th>Action,Crime,Drama</th>\n",
       "      <th>7.0</th>\n",
       "      <td>Sunghursh</td>\n",
       "      <td>Sunghursh</td>\n",
       "      <td>2013</td>\n",
       "      <td>175.0</td>\n",
       "      <td>77.0</td>\n",
       "    </tr>\n",
       "    <tr>\n",
       "      <th>Biography,Drama</th>\n",
       "      <th>7.2</th>\n",
       "      <td>One Day Before the Rainy Season</td>\n",
       "      <td>Ashad Ka Ek Din</td>\n",
       "      <td>2019</td>\n",
       "      <td>114.0</td>\n",
       "      <td>43.0</td>\n",
       "    </tr>\n",
       "    <tr>\n",
       "      <th>Drama</th>\n",
       "      <th>6.9</th>\n",
       "      <td>The Other Side of the Wind</td>\n",
       "      <td>The Other Side of the Wind</td>\n",
       "      <td>2018</td>\n",
       "      <td>122.0</td>\n",
       "      <td>4517.0</td>\n",
       "    </tr>\n",
       "    <tr>\n",
       "      <th>Comedy,Drama</th>\n",
       "      <th>6.1</th>\n",
       "      <td>Sabse Bada Sukh</td>\n",
       "      <td>Sabse Bada Sukh</td>\n",
       "      <td>2018</td>\n",
       "      <td>86.0</td>\n",
       "      <td>13.0</td>\n",
       "    </tr>\n",
       "    <tr>\n",
       "      <th>Comedy,Drama,Fantasy</th>\n",
       "      <th>6.5</th>\n",
       "      <td>The Wandering Soap Opera</td>\n",
       "      <td>La Telenovela Errante</td>\n",
       "      <td>2017</td>\n",
       "      <td>80.0</td>\n",
       "      <td>119.0</td>\n",
       "    </tr>\n",
       "    <tr>\n",
       "      <th>...</th>\n",
       "      <th>...</th>\n",
       "      <td>...</td>\n",
       "      <td>...</td>\n",
       "      <td>...</td>\n",
       "      <td>...</td>\n",
       "      <td>...</td>\n",
       "    </tr>\n",
       "    <tr>\n",
       "      <th>Drama</th>\n",
       "      <th>NaN</th>\n",
       "      <td>Kuambil Lagi Hatiku</td>\n",
       "      <td>Kuambil Lagi Hatiku</td>\n",
       "      <td>2019</td>\n",
       "      <td>123.0</td>\n",
       "      <td>NaN</td>\n",
       "    </tr>\n",
       "    <tr>\n",
       "      <th>Documentary</th>\n",
       "      <th>NaN</th>\n",
       "      <td>Rodolpho Teóphilo - O Legado de um Pioneiro</td>\n",
       "      <td>Rodolpho Teóphilo - O Legado de um Pioneiro</td>\n",
       "      <td>2015</td>\n",
       "      <td>86.0</td>\n",
       "      <td>NaN</td>\n",
       "    </tr>\n",
       "    <tr>\n",
       "      <th>Comedy</th>\n",
       "      <th>NaN</th>\n",
       "      <td>Dankyavar Danka</td>\n",
       "      <td>Dankyavar Danka</td>\n",
       "      <td>2013</td>\n",
       "      <td>86.0</td>\n",
       "      <td>NaN</td>\n",
       "    </tr>\n",
       "    <tr>\n",
       "      <th>NaN</th>\n",
       "      <th>NaN</th>\n",
       "      <td>6 Gunn</td>\n",
       "      <td>6 Gunn</td>\n",
       "      <td>2017</td>\n",
       "      <td>116.0</td>\n",
       "      <td>NaN</td>\n",
       "    </tr>\n",
       "    <tr>\n",
       "      <th>Documentary</th>\n",
       "      <th>NaN</th>\n",
       "      <td>Chico Albuquerque - Revelações</td>\n",
       "      <td>Chico Albuquerque - Revelações</td>\n",
       "      <td>2013</td>\n",
       "      <td>86.0</td>\n",
       "      <td>NaN</td>\n",
       "    </tr>\n",
       "  </tbody>\n",
       "</table>\n",
       "<p>146144 rows × 5 columns</p>\n",
       "</div>"
      ],
      "text/plain": [
       "                                                                  primary_title  \\\n",
       "genres               averagerating                                                \n",
       "Action,Crime,Drama   7.0                                              Sunghursh   \n",
       "Biography,Drama      7.2                        One Day Before the Rainy Season   \n",
       "Drama                6.9                             The Other Side of the Wind   \n",
       "Comedy,Drama         6.1                                        Sabse Bada Sukh   \n",
       "Comedy,Drama,Fantasy 6.5                               The Wandering Soap Opera   \n",
       "...                                                                         ...   \n",
       "Drama                NaN                                    Kuambil Lagi Hatiku   \n",
       "Documentary          NaN            Rodolpho Teóphilo - O Legado de um Pioneiro   \n",
       "Comedy               NaN                                        Dankyavar Danka   \n",
       "NaN                  NaN                                                 6 Gunn   \n",
       "Documentary          NaN                         Chico Albuquerque - Revelações   \n",
       "\n",
       "                                                                 original_title  \\\n",
       "genres               averagerating                                                \n",
       "Action,Crime,Drama   7.0                                              Sunghursh   \n",
       "Biography,Drama      7.2                                        Ashad Ka Ek Din   \n",
       "Drama                6.9                             The Other Side of the Wind   \n",
       "Comedy,Drama         6.1                                        Sabse Bada Sukh   \n",
       "Comedy,Drama,Fantasy 6.5                                  La Telenovela Errante   \n",
       "...                                                                         ...   \n",
       "Drama                NaN                                    Kuambil Lagi Hatiku   \n",
       "Documentary          NaN            Rodolpho Teóphilo - O Legado de um Pioneiro   \n",
       "Comedy               NaN                                        Dankyavar Danka   \n",
       "NaN                  NaN                                                 6 Gunn   \n",
       "Documentary          NaN                         Chico Albuquerque - Revelações   \n",
       "\n",
       "                                    start_year  runtime_minutes  numvotes  \n",
       "genres               averagerating                                         \n",
       "Action,Crime,Drama   7.0                  2013            175.0      77.0  \n",
       "Biography,Drama      7.2                  2019            114.0      43.0  \n",
       "Drama                6.9                  2018            122.0    4517.0  \n",
       "Comedy,Drama         6.1                  2018             86.0      13.0  \n",
       "Comedy,Drama,Fantasy 6.5                  2017             80.0     119.0  \n",
       "...                                        ...              ...       ...  \n",
       "Drama                NaN                  2019            123.0       NaN  \n",
       "Documentary          NaN                  2015             86.0       NaN  \n",
       "Comedy               NaN                  2013             86.0       NaN  \n",
       "NaN                  NaN                  2017            116.0       NaN  \n",
       "Documentary          NaN                  2013             86.0       NaN  \n",
       "\n",
       "[146144 rows x 5 columns]"
      ]
     },
     "execution_count": 79,
     "metadata": {},
     "output_type": "execute_result"
    }
   ],
   "source": [
    "#Checking on the relationship between genres and averagerating.\n",
    "Genres_Ratings = Title_ratings.set_index(\n",
    "    [\"genres\", \"averagerating\"])\n",
    "Genres_Ratings"
   ]
  },
  {
   "cell_type": "code",
   "execution_count": 80,
   "metadata": {},
   "outputs": [],
   "source": [
    "# Start_years = Title_ratings['start_year'].value_counts(100)\n",
    "# Start_years"
   ]
  },
  {
   "cell_type": "code",
   "execution_count": 81,
   "metadata": {},
   "outputs": [
    {
     "ename": "NameError",
     "evalue": "name 'df' is not defined",
     "output_type": "error",
     "traceback": [
      "\u001b[1;31m---------------------------------------------------------------------------\u001b[0m",
      "\u001b[1;31mNameError\u001b[0m                                 Traceback (most recent call last)",
      "\u001b[1;32m<ipython-input-81-85d2f481160b>\u001b[0m in \u001b[0;36m<module>\u001b[1;34m\u001b[0m\n\u001b[1;32m----> 1\u001b[1;33m \u001b[0mdf\u001b[0m\u001b[1;33m[\u001b[0m\u001b[1;34m'Sale'\u001b[0m\u001b[1;33m]\u001b[0m\u001b[1;33m.\u001b[0m\u001b[0mfillna\u001b[0m\u001b[1;33m(\u001b[0m\u001b[0mint\u001b[0m\u001b[1;33m(\u001b[0m\u001b[0mdf\u001b[0m\u001b[1;33m[\u001b[0m\u001b[1;34m'Sale'\u001b[0m\u001b[1;33m]\u001b[0m\u001b[1;33m.\u001b[0m\u001b[0mmean\u001b[0m\u001b[1;33m(\u001b[0m\u001b[1;33m)\u001b[0m\u001b[1;33m)\u001b[0m\u001b[1;33m,\u001b[0m \u001b[0minplace\u001b[0m\u001b[1;33m=\u001b[0m\u001b[1;32mTrue\u001b[0m\u001b[1;33m)\u001b[0m\u001b[1;33m\u001b[0m\u001b[1;33m\u001b[0m\u001b[0m\n\u001b[0m\u001b[0;32m      2\u001b[0m \u001b[0mprint\u001b[0m\u001b[1;33m(\u001b[0m\u001b[0mdf\u001b[0m\u001b[1;33m)\u001b[0m\u001b[1;33m\u001b[0m\u001b[1;33m\u001b[0m\u001b[0m\n",
      "\u001b[1;31mNameError\u001b[0m: name 'df' is not defined"
     ]
    }
   ],
   "source": [
    "df['Sale'].fillna(int(df['Sale'].mean()), inplace=True) \n",
    "print(df)"
   ]
  },
  {
   "cell_type": "markdown",
   "metadata": {},
   "source": [
    "## USING GROUPBY FUNCTION TO UNDERSTAND DATA."
   ]
  },
  {
   "cell_type": "code",
   "execution_count": 82,
   "metadata": {},
   "outputs": [
    {
     "data": {
      "text/html": [
       "<div>\n",
       "<style scoped>\n",
       "    .dataframe tbody tr th:only-of-type {\n",
       "        vertical-align: middle;\n",
       "    }\n",
       "\n",
       "    .dataframe tbody tr th {\n",
       "        vertical-align: top;\n",
       "    }\n",
       "\n",
       "    .dataframe thead tr th {\n",
       "        text-align: left;\n",
       "    }\n",
       "\n",
       "    .dataframe thead tr:last-of-type th {\n",
       "        text-align: right;\n",
       "    }\n",
       "</style>\n",
       "<table border=\"1\" class=\"dataframe\">\n",
       "  <thead>\n",
       "    <tr>\n",
       "      <th></th>\n",
       "      <th colspan=\"3\" halign=\"left\">averagerating</th>\n",
       "    </tr>\n",
       "    <tr>\n",
       "      <th></th>\n",
       "      <th>count</th>\n",
       "      <th>median</th>\n",
       "      <th>mean</th>\n",
       "    </tr>\n",
       "    <tr>\n",
       "      <th>genres</th>\n",
       "      <th></th>\n",
       "      <th></th>\n",
       "      <th></th>\n",
       "    </tr>\n",
       "  </thead>\n",
       "  <tbody>\n",
       "    <tr>\n",
       "      <th>Action</th>\n",
       "      <td>979</td>\n",
       "      <td>5.80</td>\n",
       "      <td>5.757712</td>\n",
       "    </tr>\n",
       "    <tr>\n",
       "      <th>Action,Adult,Comedy</th>\n",
       "      <td>2</td>\n",
       "      <td>4.65</td>\n",
       "      <td>4.650000</td>\n",
       "    </tr>\n",
       "  </tbody>\n",
       "</table>\n",
       "</div>"
      ],
      "text/plain": [
       "                    averagerating                 \n",
       "                            count median      mean\n",
       "genres                                            \n",
       "Action                        979   5.80  5.757712\n",
       "Action,Adult,Comedy             2   4.65  4.650000"
      ]
     },
     "execution_count": 82,
     "metadata": {},
     "output_type": "execute_result"
    }
   ],
   "source": [
    "#Using Groupby function to check on genres bases in average rating.\n",
    "Agrregated_Ratings = Title_ratings[['genres','averagerating']].groupby(['genres']).agg(['count', 'median', 'mean'])\n",
    "Agrregated_Ratings.head(2)"
   ]
  },
  {
   "cell_type": "code",
   "execution_count": 83,
   "metadata": {},
   "outputs": [
    {
     "data": {
      "text/html": [
       "<div>\n",
       "<style scoped>\n",
       "    .dataframe tbody tr th:only-of-type {\n",
       "        vertical-align: middle;\n",
       "    }\n",
       "\n",
       "    .dataframe tbody tr th {\n",
       "        vertical-align: top;\n",
       "    }\n",
       "\n",
       "    .dataframe thead tr th {\n",
       "        text-align: left;\n",
       "    }\n",
       "\n",
       "    .dataframe thead tr:last-of-type th {\n",
       "        text-align: right;\n",
       "    }\n",
       "</style>\n",
       "<table border=\"1\" class=\"dataframe\">\n",
       "  <thead>\n",
       "    <tr>\n",
       "      <th></th>\n",
       "      <th colspan=\"3\" halign=\"left\">numvotes</th>\n",
       "    </tr>\n",
       "    <tr>\n",
       "      <th></th>\n",
       "      <th>count</th>\n",
       "      <th>median</th>\n",
       "      <th>mean</th>\n",
       "    </tr>\n",
       "    <tr>\n",
       "      <th>genres</th>\n",
       "      <th></th>\n",
       "      <th></th>\n",
       "      <th></th>\n",
       "    </tr>\n",
       "  </thead>\n",
       "  <tbody>\n",
       "    <tr>\n",
       "      <th>Action</th>\n",
       "      <td>979</td>\n",
       "      <td>32.0</td>\n",
       "      <td>336.115424</td>\n",
       "    </tr>\n",
       "    <tr>\n",
       "      <th>Action,Adult,Comedy</th>\n",
       "      <td>2</td>\n",
       "      <td>18.0</td>\n",
       "      <td>18.000000</td>\n",
       "    </tr>\n",
       "  </tbody>\n",
       "</table>\n",
       "</div>"
      ],
      "text/plain": [
       "                    numvotes                   \n",
       "                       count median        mean\n",
       "genres                                         \n",
       "Action                   979   32.0  336.115424\n",
       "Action,Adult,Comedy        2   18.0   18.000000"
      ]
     },
     "execution_count": 83,
     "metadata": {},
     "output_type": "execute_result"
    }
   ],
   "source": [
    "#Using Groupby function to check on genres bases in number of votes.\n",
    "Aggregated_NumeberVote = Title_ratings[['genres','numvotes']].groupby(['genres']).agg(['count', 'median', 'mean'])\n",
    "Aggregated_NumeberVote.head(2)"
   ]
  },
  {
   "cell_type": "code",
   "execution_count": 84,
   "metadata": {},
   "outputs": [
    {
     "data": {
      "text/plain": [
       "genres\n",
       "Action,Adventure,Sci-Fi       23023248.0\n",
       "Action,Adventure,Fantasy       9658883.0\n",
       "Adventure,Animation,Comedy     8687435.0\n",
       "Drama                          8395521.0\n",
       "Comedy,Drama,Romance           7665463.0\n",
       "Action,Adventure,Comedy        7256686.0\n",
       "Comedy                         6832037.0\n",
       "Comedy,Drama                   6462839.0\n",
       "Action,Crime,Drama             5563553.0\n",
       "Drama,Romance                  5542760.0\n",
       "Name: numvotes, dtype: float64"
      ]
     },
     "execution_count": 84,
     "metadata": {},
     "output_type": "execute_result"
    }
   ],
   "source": [
    "#Sorting the Aggregated_NumeberVote and getting the first 10.\n",
    "Title_ratings.groupby(['genres'])['numvotes'].sum().sort_values(ascending=False).head(10)"
   ]
  },
  {
   "cell_type": "code",
   "execution_count": 85,
   "metadata": {},
   "outputs": [
    {
     "data": {
      "text/plain": [
       "genres\n",
       "Action,Adventure,Sci-Fi      181285.417323\n",
       "Adventure,Mystery,Sci-Fi     135042.500000\n",
       "Action,Fantasy,War           131509.000000\n",
       "Adventure,Drama,Sci-Fi        99316.950000\n",
       "Action,Adventure,Fantasy      93775.563107\n",
       "Biography,Drama,Thriller      84506.909091\n",
       "Action,Crime,Sci-Fi           78214.125000\n",
       "Action,Adventure,Thriller     74964.800000\n",
       "Action,Adventure,Mystery      66149.272727\n",
       "Family,Fantasy,Musical        59606.500000\n",
       "Name: numvotes, dtype: float64"
      ]
     },
     "execution_count": 85,
     "metadata": {},
     "output_type": "execute_result"
    }
   ],
   "source": [
    "#Getting the first 10 Genres based on number of votes.\n",
    "Top_10_Genres_Votes = Title_ratings.groupby(['genres'])['numvotes'].mean().sort_values(ascending=False).head(10)\n",
    "Top_10_Genres_Votes"
   ]
  },
  {
   "cell_type": "code",
   "execution_count": 86,
   "metadata": {},
   "outputs": [
    {
     "data": {
      "text/plain": [
       "genres\n",
       "Comedy,Documentary,Fantasy     9.4\n",
       "Documentary,Family,Musical     9.3\n",
       "History,Sport                  9.2\n",
       "Game-Show                      9.0\n",
       "Music,Mystery                  9.0\n",
       "Documentary,News,Sport         8.8\n",
       "Drama,Fantasy,War              8.8\n",
       "Comedy,Drama,Reality-TV        8.8\n",
       "Drama,Short                    8.8\n",
       "Documentary,News,Reality-TV    8.8\n",
       "Name: averagerating, dtype: float64"
      ]
     },
     "execution_count": 86,
     "metadata": {},
     "output_type": "execute_result"
    }
   ],
   "source": [
    "#Getting the first 10 Genres based on number of Ratings.\n",
    "Top_10_Genres_Ratings = Title_ratings.groupby(['genres'])['averagerating'].mean().sort_values(ascending=False).head(10)\n",
    "Top_10_Genres_Ratings"
   ]
  },
  {
   "cell_type": "code",
   "execution_count": 87,
   "metadata": {},
   "outputs": [
    {
     "data": {
      "text/plain": [
       "genres\n",
       "Biography,Mystery,Sci-Fi     220.000000\n",
       "Drama,Western                206.340909\n",
       "History,Musical,Romance      174.000000\n",
       "Musical,Romance,Thriller     165.000000\n",
       "Adventure,Animation,Crime    157.000000\n",
       "Fantasy,Sci-Fi               145.260870\n",
       "Action,Family,Thriller       145.000000\n",
       "Adventure,Horror,Romance     145.000000\n",
       "Comedy,History               141.608696\n",
       "Action,Animation,Mystery     140.000000\n",
       "Name: runtime_minutes, dtype: float64"
      ]
     },
     "execution_count": 87,
     "metadata": {},
     "output_type": "execute_result"
    }
   ],
   "source": [
    "#Getting the first 10 Genres based on number of Runtime(minutes).\n",
    "Runtime_votes = Title_ratings.groupby(['genres'])['runtime_minutes'].mean().sort_values(ascending=False).head(10)\n",
    "Runtime_votes"
   ]
  },
  {
   "cell_type": "markdown",
   "metadata": {},
   "source": [
    "## USING PIVOT TABLE TO ORDER & SORT THE DATA SET"
   ]
  },
  {
   "cell_type": "code",
   "execution_count": 88,
   "metadata": {},
   "outputs": [
    {
     "data": {
      "text/html": [
       "<div>\n",
       "<style scoped>\n",
       "    .dataframe tbody tr th:only-of-type {\n",
       "        vertical-align: middle;\n",
       "    }\n",
       "\n",
       "    .dataframe tbody tr th {\n",
       "        vertical-align: top;\n",
       "    }\n",
       "\n",
       "    .dataframe thead th {\n",
       "        text-align: right;\n",
       "    }\n",
       "</style>\n",
       "<table border=\"1\" class=\"dataframe\">\n",
       "  <thead>\n",
       "    <tr style=\"text-align: right;\">\n",
       "      <th></th>\n",
       "      <th>averagerating</th>\n",
       "      <th>numvotes</th>\n",
       "      <th>runtime_minutes</th>\n",
       "    </tr>\n",
       "    <tr>\n",
       "      <th>genres</th>\n",
       "      <th></th>\n",
       "      <th></th>\n",
       "      <th></th>\n",
       "    </tr>\n",
       "  </thead>\n",
       "  <tbody>\n",
       "    <tr>\n",
       "      <th>Action</th>\n",
       "      <td>5636.8</td>\n",
       "      <td>329057.0</td>\n",
       "      <td>209775.0</td>\n",
       "    </tr>\n",
       "    <tr>\n",
       "      <th>Action,Adult,Comedy</th>\n",
       "      <td>9.3</td>\n",
       "      <td>36.0</td>\n",
       "      <td>157.0</td>\n",
       "    </tr>\n",
       "    <tr>\n",
       "      <th>Action,Adventure</th>\n",
       "      <td>355.2</td>\n",
       "      <td>109011.0</td>\n",
       "      <td>10905.0</td>\n",
       "    </tr>\n",
       "    <tr>\n",
       "      <th>Action,Adventure,Animation</th>\n",
       "      <td>1096.0</td>\n",
       "      <td>3570543.0</td>\n",
       "      <td>17894.0</td>\n",
       "    </tr>\n",
       "    <tr>\n",
       "      <th>Action,Adventure,Biography</th>\n",
       "      <td>148.3</td>\n",
       "      <td>999701.0</td>\n",
       "      <td>2839.0</td>\n",
       "    </tr>\n",
       "    <tr>\n",
       "      <th>...</th>\n",
       "      <td>...</td>\n",
       "      <td>...</td>\n",
       "      <td>...</td>\n",
       "    </tr>\n",
       "    <tr>\n",
       "      <th>Thriller,War,Western</th>\n",
       "      <td>0.0</td>\n",
       "      <td>0.0</td>\n",
       "      <td>55.0</td>\n",
       "    </tr>\n",
       "    <tr>\n",
       "      <th>Thriller,Western</th>\n",
       "      <td>28.6</td>\n",
       "      <td>13288.0</td>\n",
       "      <td>362.0</td>\n",
       "    </tr>\n",
       "    <tr>\n",
       "      <th>War</th>\n",
       "      <td>288.3</td>\n",
       "      <td>5535.0</td>\n",
       "      <td>11741.0</td>\n",
       "    </tr>\n",
       "    <tr>\n",
       "      <th>War,Western</th>\n",
       "      <td>0.0</td>\n",
       "      <td>0.0</td>\n",
       "      <td>138.0</td>\n",
       "    </tr>\n",
       "    <tr>\n",
       "      <th>Western</th>\n",
       "      <td>377.8</td>\n",
       "      <td>15571.0</td>\n",
       "      <td>12595.0</td>\n",
       "    </tr>\n",
       "  </tbody>\n",
       "</table>\n",
       "<p>1085 rows × 3 columns</p>\n",
       "</div>"
      ],
      "text/plain": [
       "                            averagerating   numvotes  runtime_minutes\n",
       "genres                                                               \n",
       "Action                             5636.8   329057.0         209775.0\n",
       "Action,Adult,Comedy                   9.3       36.0            157.0\n",
       "Action,Adventure                    355.2   109011.0          10905.0\n",
       "Action,Adventure,Animation         1096.0  3570543.0          17894.0\n",
       "Action,Adventure,Biography          148.3   999701.0           2839.0\n",
       "...                                   ...        ...              ...\n",
       "Thriller,War,Western                  0.0        0.0             55.0\n",
       "Thriller,Western                     28.6    13288.0            362.0\n",
       "War                                 288.3     5535.0          11741.0\n",
       "War,Western                           0.0        0.0            138.0\n",
       "Western                             377.8    15571.0          12595.0\n",
       "\n",
       "[1085 rows x 3 columns]"
      ]
     },
     "execution_count": 88,
     "metadata": {},
     "output_type": "execute_result"
    }
   ],
   "source": [
    "#Sorting by Multiple Columns in Descending Order, Runtime and Average Rating.\n",
    "Title_Ratings_vs_runtime = Title_ratings.pivot_table(index=['genres'], values=['runtime_minutes','averagerating', 'numvotes'], aggfunc='sum')\n",
    "Title_Ratings_vs_runtime"
   ]
  },
  {
   "cell_type": "code",
   "execution_count": 89,
   "metadata": {},
   "outputs": [
    {
     "data": {
      "text/html": [
       "<div>\n",
       "<style scoped>\n",
       "    .dataframe tbody tr th:only-of-type {\n",
       "        vertical-align: middle;\n",
       "    }\n",
       "\n",
       "    .dataframe tbody tr th {\n",
       "        vertical-align: top;\n",
       "    }\n",
       "\n",
       "    .dataframe thead th {\n",
       "        text-align: right;\n",
       "    }\n",
       "</style>\n",
       "<table border=\"1\" class=\"dataframe\">\n",
       "  <thead>\n",
       "    <tr style=\"text-align: right;\">\n",
       "      <th></th>\n",
       "      <th>averagerating</th>\n",
       "      <th>runtime_minutes</th>\n",
       "      <th>numvotes</th>\n",
       "    </tr>\n",
       "    <tr>\n",
       "      <th>genres</th>\n",
       "      <th></th>\n",
       "      <th></th>\n",
       "      <th></th>\n",
       "    </tr>\n",
       "  </thead>\n",
       "  <tbody>\n",
       "    <tr>\n",
       "      <th>Drama</th>\n",
       "      <td>75411.4</td>\n",
       "      <td>1987670.0</td>\n",
       "      <td>8395521.0</td>\n",
       "    </tr>\n",
       "    <tr>\n",
       "      <th>Documentary</th>\n",
       "      <td>75220.9</td>\n",
       "      <td>2488119.0</td>\n",
       "      <td>1785513.0</td>\n",
       "    </tr>\n",
       "    <tr>\n",
       "      <th>Comedy</th>\n",
       "      <td>32431.9</td>\n",
       "      <td>835939.0</td>\n",
       "      <td>6832037.0</td>\n",
       "    </tr>\n",
       "    <tr>\n",
       "      <th>Comedy,Drama</th>\n",
       "      <td>16654.9</td>\n",
       "      <td>337426.0</td>\n",
       "      <td>6462839.0</td>\n",
       "    </tr>\n",
       "    <tr>\n",
       "      <th>Horror</th>\n",
       "      <td>13017.1</td>\n",
       "      <td>373238.0</td>\n",
       "      <td>1585933.0</td>\n",
       "    </tr>\n",
       "    <tr>\n",
       "      <th>...</th>\n",
       "      <td>...</td>\n",
       "      <td>...</td>\n",
       "      <td>...</td>\n",
       "    </tr>\n",
       "    <tr>\n",
       "      <th>Animation,Documentary,Sci-Fi</th>\n",
       "      <td>0.0</td>\n",
       "      <td>10.0</td>\n",
       "      <td>0.0</td>\n",
       "    </tr>\n",
       "    <tr>\n",
       "      <th>Documentary,Mystery,Romance</th>\n",
       "      <td>0.0</td>\n",
       "      <td>7.0</td>\n",
       "      <td>0.0</td>\n",
       "    </tr>\n",
       "    <tr>\n",
       "      <th>Drama,Horror,Short</th>\n",
       "      <td>0.0</td>\n",
       "      <td>7.0</td>\n",
       "      <td>0.0</td>\n",
       "    </tr>\n",
       "    <tr>\n",
       "      <th>Animation,Documentary,Horror</th>\n",
       "      <td>0.0</td>\n",
       "      <td>4.0</td>\n",
       "      <td>0.0</td>\n",
       "    </tr>\n",
       "    <tr>\n",
       "      <th>Comedy,Short</th>\n",
       "      <td>0.0</td>\n",
       "      <td>1.0</td>\n",
       "      <td>0.0</td>\n",
       "    </tr>\n",
       "  </tbody>\n",
       "</table>\n",
       "<p>1085 rows × 3 columns</p>\n",
       "</div>"
      ],
      "text/plain": [
       "                              averagerating  runtime_minutes   numvotes\n",
       "genres                                                                 \n",
       "Drama                               75411.4        1987670.0  8395521.0\n",
       "Documentary                         75220.9        2488119.0  1785513.0\n",
       "Comedy                              32431.9         835939.0  6832037.0\n",
       "Comedy,Drama                        16654.9         337426.0  6462839.0\n",
       "Horror                              13017.1         373238.0  1585933.0\n",
       "...                                     ...              ...        ...\n",
       "Animation,Documentary,Sci-Fi            0.0             10.0        0.0\n",
       "Documentary,Mystery,Romance             0.0              7.0        0.0\n",
       "Drama,Horror,Short                      0.0              7.0        0.0\n",
       "Animation,Documentary,Horror            0.0              4.0        0.0\n",
       "Comedy,Short                            0.0              1.0        0.0\n",
       "\n",
       "[1085 rows x 3 columns]"
      ]
     },
     "execution_count": 89,
     "metadata": {},
     "output_type": "execute_result"
    }
   ],
   "source": [
    "#Ordering run-time, numvotes and ratings for the genres.\n",
    "Title_Vs_Runtime = Title_Ratings_vs_runtime.sort_values(by=[\"averagerating\", \"runtime_minutes\", \"numvotes\"],ascending=False)[[\"averagerating\", \"runtime_minutes\",\"numvotes\",]]\n",
    "Title_Vs_Runtime"
   ]
  },
  {
   "cell_type": "code",
   "execution_count": 90,
   "metadata": {},
   "outputs": [
    {
     "ename": "NameError",
     "evalue": "name 'Title_Vs_Runtime_Pivoted' is not defined",
     "output_type": "error",
     "traceback": [
      "\u001b[1;31m---------------------------------------------------------------------------\u001b[0m",
      "\u001b[1;31mNameError\u001b[0m                                 Traceback (most recent call last)",
      "\u001b[1;32m<ipython-input-90-12602a54fb0d>\u001b[0m in \u001b[0;36m<module>\u001b[1;34m\u001b[0m\n\u001b[0;32m      1\u001b[0m \u001b[1;31m#Getting the first 10 of Title_Vs_Runtime\u001b[0m\u001b[1;33m\u001b[0m\u001b[1;33m\u001b[0m\u001b[1;33m\u001b[0m\u001b[0m\n\u001b[0;32m      2\u001b[0m \u001b[0mTitle_Vs_Runtime_Pivoted1\u001b[0m \u001b[1;33m=\u001b[0m \u001b[0mTitle_Vs_Runtime\u001b[0m\u001b[1;33m.\u001b[0m\u001b[0mhead\u001b[0m\u001b[1;33m(\u001b[0m\u001b[1;36m10\u001b[0m\u001b[1;33m)\u001b[0m\u001b[1;33m\u001b[0m\u001b[1;33m\u001b[0m\u001b[0m\n\u001b[1;32m----> 3\u001b[1;33m \u001b[0mTitle_Vs_Runtime_Pivoted\u001b[0m\u001b[1;33m\u001b[0m\u001b[1;33m\u001b[0m\u001b[0m\n\u001b[0m",
      "\u001b[1;31mNameError\u001b[0m: name 'Title_Vs_Runtime_Pivoted' is not defined"
     ]
    }
   ],
   "source": [
    "#Getting the first 10 of Title_Vs_Runtime\n",
    "Title_Vs_Runtime_Pivoted1 = Title_Vs_Runtime.head(10)\n",
    "Title_Vs_Runtime_Pivoted"
   ]
  },
  {
   "cell_type": "code",
   "execution_count": 91,
   "metadata": {},
   "outputs": [
    {
     "ename": "NameError",
     "evalue": "name 'Title_Vs_Runtime_Pivoted' is not defined",
     "output_type": "error",
     "traceback": [
      "\u001b[1;31m---------------------------------------------------------------------------\u001b[0m",
      "\u001b[1;31mNameError\u001b[0m                                 Traceback (most recent call last)",
      "\u001b[1;32m<ipython-input-91-49e4a5a4413b>\u001b[0m in \u001b[0;36m<module>\u001b[1;34m\u001b[0m\n\u001b[0;32m      1\u001b[0m \u001b[1;31m#Getting the last 10 of Title_Vs_Runtime\u001b[0m\u001b[1;33m\u001b[0m\u001b[1;33m\u001b[0m\u001b[1;33m\u001b[0m\u001b[0m\n\u001b[0;32m      2\u001b[0m \u001b[0mTitle_Vs_Runtime_Pivoted2\u001b[0m \u001b[1;33m=\u001b[0m \u001b[0mTitle_Vs_Runtime\u001b[0m\u001b[1;33m.\u001b[0m\u001b[0mtail\u001b[0m\u001b[1;33m(\u001b[0m\u001b[1;36m10\u001b[0m\u001b[1;33m)\u001b[0m\u001b[1;33m\u001b[0m\u001b[1;33m\u001b[0m\u001b[0m\n\u001b[1;32m----> 3\u001b[1;33m \u001b[0mTitle_Vs_Runtime_Pivoted\u001b[0m\u001b[1;33m\u001b[0m\u001b[1;33m\u001b[0m\u001b[0m\n\u001b[0m",
      "\u001b[1;31mNameError\u001b[0m: name 'Title_Vs_Runtime_Pivoted' is not defined"
     ]
    }
   ],
   "source": [
    "#Getting the last 10 of Title_Vs_Runtime\n",
    "Title_Vs_Runtime_Pivoted2 = Title_Vs_Runtime.tail(10)\n",
    "Title_Vs_Runtime_Pivoted"
   ]
  },
  {
   "cell_type": "code",
   "execution_count": 92,
   "metadata": {},
   "outputs": [
    {
     "data": {
      "text/html": [
       "<div>\n",
       "<style scoped>\n",
       "    .dataframe tbody tr th:only-of-type {\n",
       "        vertical-align: middle;\n",
       "    }\n",
       "\n",
       "    .dataframe tbody tr th {\n",
       "        vertical-align: top;\n",
       "    }\n",
       "\n",
       "    .dataframe thead tr th {\n",
       "        text-align: left;\n",
       "    }\n",
       "\n",
       "    .dataframe thead tr:last-of-type th {\n",
       "        text-align: right;\n",
       "    }\n",
       "</style>\n",
       "<table border=\"1\" class=\"dataframe\">\n",
       "  <thead>\n",
       "    <tr>\n",
       "      <th></th>\n",
       "      <th>numvotes</th>\n",
       "      <th>runtime_minutes</th>\n",
       "    </tr>\n",
       "    <tr>\n",
       "      <th></th>\n",
       "      <th>sum</th>\n",
       "      <th>sum</th>\n",
       "    </tr>\n",
       "    <tr>\n",
       "      <th>genres</th>\n",
       "      <th></th>\n",
       "      <th></th>\n",
       "    </tr>\n",
       "  </thead>\n",
       "  <tbody>\n",
       "    <tr>\n",
       "      <th>Action</th>\n",
       "      <td>329057.0</td>\n",
       "      <td>209775.0</td>\n",
       "    </tr>\n",
       "    <tr>\n",
       "      <th>Action,Adult,Comedy</th>\n",
       "      <td>36.0</td>\n",
       "      <td>157.0</td>\n",
       "    </tr>\n",
       "    <tr>\n",
       "      <th>Action,Adventure</th>\n",
       "      <td>109011.0</td>\n",
       "      <td>10905.0</td>\n",
       "    </tr>\n",
       "    <tr>\n",
       "      <th>Action,Adventure,Animation</th>\n",
       "      <td>3570543.0</td>\n",
       "      <td>17894.0</td>\n",
       "    </tr>\n",
       "    <tr>\n",
       "      <th>Action,Adventure,Biography</th>\n",
       "      <td>999701.0</td>\n",
       "      <td>2839.0</td>\n",
       "    </tr>\n",
       "    <tr>\n",
       "      <th>Action,Adventure,Comedy</th>\n",
       "      <td>7256686.0</td>\n",
       "      <td>31211.0</td>\n",
       "    </tr>\n",
       "    <tr>\n",
       "      <th>Action,Adventure,Crime</th>\n",
       "      <td>1344328.0</td>\n",
       "      <td>7443.0</td>\n",
       "    </tr>\n",
       "    <tr>\n",
       "      <th>Action,Adventure,Documentary</th>\n",
       "      <td>16936.0</td>\n",
       "      <td>10735.0</td>\n",
       "    </tr>\n",
       "    <tr>\n",
       "      <th>Action,Adventure,Drama</th>\n",
       "      <td>4485443.0</td>\n",
       "      <td>24557.0</td>\n",
       "    </tr>\n",
       "    <tr>\n",
       "      <th>Action,Adventure,Family</th>\n",
       "      <td>787657.0</td>\n",
       "      <td>3389.0</td>\n",
       "    </tr>\n",
       "  </tbody>\n",
       "</table>\n",
       "</div>"
      ],
      "text/plain": [
       "                               numvotes runtime_minutes\n",
       "                                    sum             sum\n",
       "genres                                                 \n",
       "Action                         329057.0        209775.0\n",
       "Action,Adult,Comedy                36.0           157.0\n",
       "Action,Adventure               109011.0         10905.0\n",
       "Action,Adventure,Animation    3570543.0         17894.0\n",
       "Action,Adventure,Biography     999701.0          2839.0\n",
       "Action,Adventure,Comedy       7256686.0         31211.0\n",
       "Action,Adventure,Crime        1344328.0          7443.0\n",
       "Action,Adventure,Documentary    16936.0         10735.0\n",
       "Action,Adventure,Drama        4485443.0         24557.0\n",
       "Action,Adventure,Family        787657.0          3389.0"
      ]
     },
     "execution_count": 92,
     "metadata": {},
     "output_type": "execute_result"
    }
   ],
   "source": [
    "#numvotes vs runtime_minutes\n",
    "pivot_ratings = Title_ratings.pivot_table(index=['genres'],values=['numvotes', 'runtime_minutes'],aggfunc={'sum'}).head(10)\n",
    "pivot_ratings"
   ]
  },
  {
   "cell_type": "code",
   "execution_count": 93,
   "metadata": {},
   "outputs": [
    {
     "data": {
      "text/html": [
       "<div>\n",
       "<style scoped>\n",
       "    .dataframe tbody tr th:only-of-type {\n",
       "        vertical-align: middle;\n",
       "    }\n",
       "\n",
       "    .dataframe tbody tr th {\n",
       "        vertical-align: top;\n",
       "    }\n",
       "\n",
       "    .dataframe thead th {\n",
       "        text-align: right;\n",
       "    }\n",
       "</style>\n",
       "<table border=\"1\" class=\"dataframe\">\n",
       "  <thead>\n",
       "    <tr style=\"text-align: right;\">\n",
       "      <th></th>\n",
       "      <th>averagerating</th>\n",
       "      <th>numvotes</th>\n",
       "    </tr>\n",
       "    <tr>\n",
       "      <th>genres</th>\n",
       "      <th></th>\n",
       "      <th></th>\n",
       "    </tr>\n",
       "  </thead>\n",
       "  <tbody>\n",
       "    <tr>\n",
       "      <th>Action</th>\n",
       "      <td>5636.8</td>\n",
       "      <td>329057.0</td>\n",
       "    </tr>\n",
       "    <tr>\n",
       "      <th>Action,Adult,Comedy</th>\n",
       "      <td>9.3</td>\n",
       "      <td>36.0</td>\n",
       "    </tr>\n",
       "    <tr>\n",
       "      <th>Action,Adventure</th>\n",
       "      <td>355.2</td>\n",
       "      <td>109011.0</td>\n",
       "    </tr>\n",
       "    <tr>\n",
       "      <th>Action,Adventure,Animation</th>\n",
       "      <td>1096.0</td>\n",
       "      <td>3570543.0</td>\n",
       "    </tr>\n",
       "    <tr>\n",
       "      <th>Action,Adventure,Biography</th>\n",
       "      <td>148.3</td>\n",
       "      <td>999701.0</td>\n",
       "    </tr>\n",
       "    <tr>\n",
       "      <th>...</th>\n",
       "      <td>...</td>\n",
       "      <td>...</td>\n",
       "    </tr>\n",
       "    <tr>\n",
       "      <th>Thriller,War,Western</th>\n",
       "      <td>0.0</td>\n",
       "      <td>0.0</td>\n",
       "    </tr>\n",
       "    <tr>\n",
       "      <th>Thriller,Western</th>\n",
       "      <td>28.6</td>\n",
       "      <td>13288.0</td>\n",
       "    </tr>\n",
       "    <tr>\n",
       "      <th>War</th>\n",
       "      <td>288.3</td>\n",
       "      <td>5535.0</td>\n",
       "    </tr>\n",
       "    <tr>\n",
       "      <th>War,Western</th>\n",
       "      <td>0.0</td>\n",
       "      <td>0.0</td>\n",
       "    </tr>\n",
       "    <tr>\n",
       "      <th>Western</th>\n",
       "      <td>377.8</td>\n",
       "      <td>15571.0</td>\n",
       "    </tr>\n",
       "  </tbody>\n",
       "</table>\n",
       "<p>1085 rows × 2 columns</p>\n",
       "</div>"
      ],
      "text/plain": [
       "                            averagerating   numvotes\n",
       "genres                                              \n",
       "Action                             5636.8   329057.0\n",
       "Action,Adult,Comedy                   9.3       36.0\n",
       "Action,Adventure                    355.2   109011.0\n",
       "Action,Adventure,Animation         1096.0  3570543.0\n",
       "Action,Adventure,Biography          148.3   999701.0\n",
       "...                                   ...        ...\n",
       "Thriller,War,Western                  0.0        0.0\n",
       "Thriller,Western                     28.6    13288.0\n",
       "War                                 288.3     5535.0\n",
       "War,Western                           0.0        0.0\n",
       "Western                             377.8    15571.0\n",
       "\n",
       "[1085 rows x 2 columns]"
      ]
     },
     "execution_count": 93,
     "metadata": {},
     "output_type": "execute_result"
    }
   ],
   "source": [
    "#Average rating vs numvotes\n",
    "Title_Ratings2 = Title_ratings.pivot_table(index=['genres'], values=['averagerating', 'numvotes'], aggfunc='sum')\n",
    "Title_Ratings2"
   ]
  },
  {
   "cell_type": "code",
   "execution_count": 94,
   "metadata": {},
   "outputs": [
    {
     "data": {
      "text/html": [
       "<div>\n",
       "<style scoped>\n",
       "    .dataframe tbody tr th:only-of-type {\n",
       "        vertical-align: middle;\n",
       "    }\n",
       "\n",
       "    .dataframe tbody tr th {\n",
       "        vertical-align: top;\n",
       "    }\n",
       "\n",
       "    .dataframe thead th {\n",
       "        text-align: right;\n",
       "    }\n",
       "</style>\n",
       "<table border=\"1\" class=\"dataframe\">\n",
       "  <thead>\n",
       "    <tr style=\"text-align: right;\">\n",
       "      <th></th>\n",
       "      <th>averagerating</th>\n",
       "      <th>numvotes</th>\n",
       "    </tr>\n",
       "    <tr>\n",
       "      <th>genres</th>\n",
       "      <th></th>\n",
       "      <th></th>\n",
       "    </tr>\n",
       "  </thead>\n",
       "  <tbody>\n",
       "    <tr>\n",
       "      <th>Drama</th>\n",
       "      <td>75411.4</td>\n",
       "      <td>8395521.0</td>\n",
       "    </tr>\n",
       "    <tr>\n",
       "      <th>Documentary</th>\n",
       "      <td>75220.9</td>\n",
       "      <td>1785513.0</td>\n",
       "    </tr>\n",
       "    <tr>\n",
       "      <th>Comedy</th>\n",
       "      <td>32431.9</td>\n",
       "      <td>6832037.0</td>\n",
       "    </tr>\n",
       "    <tr>\n",
       "      <th>Comedy,Drama</th>\n",
       "      <td>16654.9</td>\n",
       "      <td>6462839.0</td>\n",
       "    </tr>\n",
       "    <tr>\n",
       "      <th>Horror</th>\n",
       "      <td>13017.1</td>\n",
       "      <td>1585933.0</td>\n",
       "    </tr>\n",
       "    <tr>\n",
       "      <th>Drama,Romance</th>\n",
       "      <td>9504.4</td>\n",
       "      <td>5542760.0</td>\n",
       "    </tr>\n",
       "    <tr>\n",
       "      <th>Thriller</th>\n",
       "      <td>8870.1</td>\n",
       "      <td>440564.0</td>\n",
       "    </tr>\n",
       "    <tr>\n",
       "      <th>Comedy,Drama,Romance</th>\n",
       "      <td>7601.3</td>\n",
       "      <td>7665463.0</td>\n",
       "    </tr>\n",
       "    <tr>\n",
       "      <th>Comedy,Romance</th>\n",
       "      <td>7225.2</td>\n",
       "      <td>4752398.0</td>\n",
       "    </tr>\n",
       "    <tr>\n",
       "      <th>Drama,Thriller</th>\n",
       "      <td>6057.3</td>\n",
       "      <td>3879354.0</td>\n",
       "    </tr>\n",
       "  </tbody>\n",
       "</table>\n",
       "</div>"
      ],
      "text/plain": [
       "                      averagerating   numvotes\n",
       "genres                                        \n",
       "Drama                       75411.4  8395521.0\n",
       "Documentary                 75220.9  1785513.0\n",
       "Comedy                      32431.9  6832037.0\n",
       "Comedy,Drama                16654.9  6462839.0\n",
       "Horror                      13017.1  1585933.0\n",
       "Drama,Romance                9504.4  5542760.0\n",
       "Thriller                     8870.1   440564.0\n",
       "Comedy,Drama,Romance         7601.3  7665463.0\n",
       "Comedy,Romance               7225.2  4752398.0\n",
       "Drama,Thriller               6057.3  3879354.0"
      ]
     },
     "execution_count": 94,
     "metadata": {},
     "output_type": "execute_result"
    }
   ],
   "source": [
    "#Getting the first 10 of Title_Ratings2 based on Ratings\n",
    "Averagerating_pivot = Title_Ratings2.sort_values(by=['averagerating'], ascending=False).head(10)\n",
    "Averagerating_pivot"
   ]
  },
  {
   "cell_type": "code",
   "execution_count": 95,
   "metadata": {},
   "outputs": [
    {
     "data": {
      "text/html": [
       "<div>\n",
       "<style scoped>\n",
       "    .dataframe tbody tr th:only-of-type {\n",
       "        vertical-align: middle;\n",
       "    }\n",
       "\n",
       "    .dataframe tbody tr th {\n",
       "        vertical-align: top;\n",
       "    }\n",
       "\n",
       "    .dataframe thead th {\n",
       "        text-align: right;\n",
       "    }\n",
       "</style>\n",
       "<table border=\"1\" class=\"dataframe\">\n",
       "  <thead>\n",
       "    <tr style=\"text-align: right;\">\n",
       "      <th></th>\n",
       "      <th>averagerating</th>\n",
       "      <th>numvotes</th>\n",
       "    </tr>\n",
       "    <tr>\n",
       "      <th>genres</th>\n",
       "      <th></th>\n",
       "      <th></th>\n",
       "    </tr>\n",
       "  </thead>\n",
       "  <tbody>\n",
       "    <tr>\n",
       "      <th>Action,Adventure,Sci-Fi</th>\n",
       "      <td>718.3</td>\n",
       "      <td>23023248.0</td>\n",
       "    </tr>\n",
       "    <tr>\n",
       "      <th>Action,Adventure,Fantasy</th>\n",
       "      <td>553.3</td>\n",
       "      <td>9658883.0</td>\n",
       "    </tr>\n",
       "    <tr>\n",
       "      <th>Adventure,Animation,Comedy</th>\n",
       "      <td>1412.9</td>\n",
       "      <td>8687435.0</td>\n",
       "    </tr>\n",
       "    <tr>\n",
       "      <th>Drama</th>\n",
       "      <td>75411.4</td>\n",
       "      <td>8395521.0</td>\n",
       "    </tr>\n",
       "    <tr>\n",
       "      <th>Comedy,Drama,Romance</th>\n",
       "      <td>7601.3</td>\n",
       "      <td>7665463.0</td>\n",
       "    </tr>\n",
       "    <tr>\n",
       "      <th>Action,Adventure,Comedy</th>\n",
       "      <td>1377.4</td>\n",
       "      <td>7256686.0</td>\n",
       "    </tr>\n",
       "    <tr>\n",
       "      <th>Comedy</th>\n",
       "      <td>32431.9</td>\n",
       "      <td>6832037.0</td>\n",
       "    </tr>\n",
       "    <tr>\n",
       "      <th>Comedy,Drama</th>\n",
       "      <td>16654.9</td>\n",
       "      <td>6462839.0</td>\n",
       "    </tr>\n",
       "    <tr>\n",
       "      <th>Action,Crime,Drama</th>\n",
       "      <td>3365.9</td>\n",
       "      <td>5563553.0</td>\n",
       "    </tr>\n",
       "    <tr>\n",
       "      <th>Drama,Romance</th>\n",
       "      <td>9504.4</td>\n",
       "      <td>5542760.0</td>\n",
       "    </tr>\n",
       "  </tbody>\n",
       "</table>\n",
       "</div>"
      ],
      "text/plain": [
       "                            averagerating    numvotes\n",
       "genres                                               \n",
       "Action,Adventure,Sci-Fi             718.3  23023248.0\n",
       "Action,Adventure,Fantasy            553.3   9658883.0\n",
       "Adventure,Animation,Comedy         1412.9   8687435.0\n",
       "Drama                             75411.4   8395521.0\n",
       "Comedy,Drama,Romance               7601.3   7665463.0\n",
       "Action,Adventure,Comedy            1377.4   7256686.0\n",
       "Comedy                            32431.9   6832037.0\n",
       "Comedy,Drama                      16654.9   6462839.0\n",
       "Action,Crime,Drama                 3365.9   5563553.0\n",
       "Drama,Romance                      9504.4   5542760.0"
      ]
     },
     "execution_count": 95,
     "metadata": {},
     "output_type": "execute_result"
    }
   ],
   "source": [
    "#Getting the first 10 of Title_Ratings2 based on Number of Vores\n",
    "numvotes_pivot = Title_Ratings2.sort_values(by=['numvotes'], ascending=False).head(10)\n",
    "numvotes_pivot"
   ]
  },
  {
   "cell_type": "markdown",
   "metadata": {},
   "source": [
    "### MERGED DATASET VISUALIZATIONS"
   ]
  },
  {
   "cell_type": "code",
   "execution_count": 96,
   "metadata": {},
   "outputs": [
    {
     "data": {
      "image/png": "[encoded data removed]",
      "text/plain": [
       "<Figure size 1440x720 with 1 Axes>"
      ]
     },
     "metadata": {
      "needs_background": "light"
     },
     "output_type": "display_data"
    }
   ],
   "source": [
    "#Visualising Number of Votes against genres\n",
    "fig,ax=plt.subplots(figsize=(20,10))\n",
    "sns.set_theme(style='white')\n",
    "sns.lineplot(data=numvotes_pivot)\n",
    "plt.xticks(rotation=60)\n",
    "plt.xlabel('MOVIES GENRES',fontsize=15)\n",
    "plt.ylabel('NUMBER OF VOTES',fontsize=15)\n",
    "plt.title('NUMBER OF VOTES PER GENRES',fontsize=18);"
   ]
  },
  {
   "cell_type": "code",
   "execution_count": 97,
   "metadata": {},
   "outputs": [
    {
     "data": {
      "image/png": "[encoded data removed]",
      "text/plain": [
       "<Figure size 1440x720 with 1 Axes>"
      ]
     },
     "metadata": {},
     "output_type": "display_data"
    }
   ],
   "source": [
    "#Visualizing Movies Rating vs Genres\n",
    "fig,ax=plt.subplots(figsize=(20,10))\n",
    "sns.set_theme(style='darkgrid')\n",
    "sns.lineplot(data=Averagerating_pivot)\n",
    "plt.xticks(rotation=60)\n",
    "plt.xlabel('MOVIES GENRES',fontsize=15)\n",
    "plt.ylabel('AVERAGE RATE',fontsize=15)\n",
    "plt.title('MOVIES RATING PER GENRES',fontsize=18);"
   ]
  },
  {
   "cell_type": "code",
   "execution_count": 98,
   "metadata": {},
   "outputs": [
    {
     "data": {
      "image/png": "[encoded data removed]",
      "text/plain": [
       "<Figure size 1152x1008 with 1 Axes>"
      ]
     },
     "metadata": {},
     "output_type": "display_data"
    }
   ],
   "source": [
    "#Movies genres and there estimated runtime_minutes\n",
    "fig,ax=plt.subplots(figsize=(16,14))\n",
    "sns.barplot(data=Title_Vs_Runtime_Pivoted1,\n",
    "            y=Title_Vs_Runtime_Pivoted1.index,\n",
    "            x='averagerating',\n",
    "            orient= 'h',\n",
    "            order=Title_Vs_Runtime_Pivoted1.sort_values('runtime_minutes',ascending=False).index)\n",
    "plt.xscale('log')\n",
    "plt.title('Movies Genres By Runtime',fontsize=25)\n",
    "plt.xlabel('Runtine_Minutes',fontsize=15)\n",
    "plt.ylabel('Genres',fontsize=15);"
   ]
  },
  {
   "cell_type": "code",
   "execution_count": 99,
   "metadata": {},
   "outputs": [
    {
     "data": {
      "image/png": "[encoded data removed]",
      "text/plain": [
       "<Figure size 1080x1440 with 1 Axes>"
      ]
     },
     "metadata": {},
     "output_type": "display_data"
    }
   ],
   "source": [
    "#Each movie against it aggregate.\n",
    "Title_Vs_Runtime_Pivoted1.plot(kind = \"bar\", stacked = True,figsize = (15, 20))\n",
    "plt.title(\"Movie Genres and Aggregate measure\")\n",
    "plt.xlabel(\"Movies\")\n",
    "plt.ylabel(\"Movies Aggregate\");"
   ]
  }
 ],
 "metadata": {
  "kernelspec": {
   "display_name": "Python 3",
   "language": "python",
   "name": "python3"
  },
  "language_info": {
   "codemirror_mode": {
    "name": "ipython",
    "version": 3
   },
   "file_extension": ".py",
   "mimetype": "text/x-python",
   "name": "python",
   "nbconvert_exporter": "python",
   "pygments_lexer": "ipython3",
   "version": "3.8.5"
  }
 },
 "nbformat": 4,
 "nbformat_minor": 2
}
